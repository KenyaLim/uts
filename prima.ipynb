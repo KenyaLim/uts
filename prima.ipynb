{
 "cells": [
  {
   "cell_type": "code",
   "execution_count": 6,
   "metadata": {},
   "outputs": [
    {
     "name": "stdout",
     "output_type": "stream",
     "text": [
      "The GCD of 2187, 125, and 343 is 1\n"
     ]
    }
   ],
   "source": [
    "def gcd_of_three_numbers(a, b, c):\n",
    "    def gcd(a, b):\n",
    "        while b:\n",
    "            a, b = b, a % b\n",
    "        return a\n",
    "\n",
    "    gcd_ab = gcd(a, b)\n",
    "    gcd_abc = gcd(gcd_ab, c)\n",
    "    return gcd_abc\n",
    "\n",
    "# Example usage\n",
    "num1 = 3**7\n",
    "num2 = 5**3\n",
    "num3 = 7**3\n",
    "result = gcd_of_three_numbers(num1, num2, num3)\n",
    "\n",
    "print(f\"The GCD of {num1}, {num2}, and {num3} is {result}\")\n"
   ]
  },
  {
   "cell_type": "code",
   "execution_count": 4,
   "metadata": {},
   "outputs": [
    {
     "name": "stdout",
     "output_type": "stream",
     "text": [
      "The GCD of 1635170022196481349560959748587682926364327 and 141050039560662968926103 is: 141050039560662968926103\n"
     ]
    }
   ],
   "source": [
    "import math\n",
    "\n",
    "num1 = 23**31\n",
    "num2 = 23**17\n",
    "\n",
    "gcd_result = math.gcd(num1, num2)\n",
    "print(f\"The GCD of {num1} and {num2} is: {gcd_result}\")\n"
   ]
  }
 ],
 "metadata": {
  "kernelspec": {
   "display_name": "Python 3",
   "language": "python",
   "name": "python3"
  },
  "language_info": {
   "codemirror_mode": {
    "name": "ipython",
    "version": 3
   },
   "file_extension": ".py",
   "mimetype": "text/x-python",
   "name": "python",
   "nbconvert_exporter": "python",
   "pygments_lexer": "ipython3",
   "version": "3.12.1"
  }
 },
 "nbformat": 4,
 "nbformat_minor": 2
}
