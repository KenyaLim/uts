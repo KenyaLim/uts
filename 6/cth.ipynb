{
 "cells": [
  {
   "cell_type": "code",
   "execution_count": 1,
   "metadata": {},
   "outputs": [
    {
     "name": "stdout",
     "output_type": "stream",
     "text": [
      "1  \n",
      "2  2  \n",
      "3  3  3  \n",
      "4  4  4  4  \n",
      "5  5  5  5  5  \n"
     ]
    }
   ],
   "source": [
    "n = int(input(\"Masukkan n =\"))\n",
    "for i in range(1, n+1):\n",
    "    for j in range(1, i+1):\n",
    "        print(i,\" \",end='')\n",
    "    print()"
   ]
  },
  {
   "cell_type": "code",
   "execution_count": 2,
   "metadata": {},
   "outputs": [
    {
     "name": "stdout",
     "output_type": "stream",
     "text": [
      "1  \n",
      "5  4  3  2  1  \n",
      "1  2  3  \n",
      "5  4  3  2  1  \n",
      "1  2  3  4  5  \n"
     ]
    }
   ],
   "source": [
    "n = int(input(\"Masukkan n =\"))\n",
    "for i in range(1, n+1):\n",
    "    if i%2 == 1:\n",
    "        for j in range(1, i+1):\n",
    "            print(j,\" \",end='')\n",
    "    else:\n",
    "        for j in range (n,0,-1):\n",
    "            print(j,\" \",end='')\n",
    "    print()"
   ]
  },
  {
   "cell_type": "code",
   "execution_count": 3,
   "metadata": {},
   "outputs": [
    {
     "name": "stdout",
     "output_type": "stream",
     "text": [
      "X0X0X0\n",
      "X0X0X\n",
      "X0X0\n",
      "X0X\n",
      "X0\n",
      "X\n",
      "\n"
     ]
    }
   ],
   "source": [
    "n = int(input(\"Masukkan n =\"))\n",
    "for i in range(0, n+1):\n",
    "    for j in range(1,n-i+1):\n",
    "        print(\"X\", end='') if j%2 == 1 else print(\"0\",end='')\n",
    "    print()"
   ]
  },
  {
   "cell_type": "code",
   "execution_count": 1,
   "metadata": {},
   "outputs": [
    {
     "name": "stdout",
     "output_type": "stream",
     "text": [
      "                                 \n",
      "                               * \n",
      "                            *  * \n",
      "                         *  *  * \n",
      "                      *  *  *  * \n",
      "                   *  *  *  *  * \n",
      "                *  *  *  *  *  * \n",
      "             *  *  *  *  *  *  * \n",
      "          *  *  *  *  *  *  *  * \n",
      "       *  *  *  *  *  *  *  *  * \n",
      "    *  *  *  *  *  *  *  *  *  * \n",
      "\n"
     ]
    }
   ],
   "source": [
    "hasil = \"\"\n",
    "x = int(input(\"Masukkan jumlah =\"))\n",
    "bar = x\n",
    "while bar >= 0:\n",
    "    kol = bar\n",
    "    while kol >= 0:\n",
    "        hasil += \"   \"\n",
    "        kol -= 1\n",
    "    kanan = 1\n",
    "    while kanan < (x -(bar-1)):\n",
    "        hasil += \" * \"\n",
    "        kanan += 1\n",
    "    hasil = hasil + \"\\n\"\n",
    "    bar -= 1\n",
    "print(hasil)"
   ]
  }
 ],
 "metadata": {
  "kernelspec": {
   "display_name": "Python 3",
   "language": "python",
   "name": "python3"
  },
  "language_info": {
   "codemirror_mode": {
    "name": "ipython",
    "version": 3
   },
   "file_extension": ".py",
   "mimetype": "text/x-python",
   "name": "python",
   "nbconvert_exporter": "python",
   "pygments_lexer": "ipython3",
   "version": "3.12.1"
  }
 },
 "nbformat": 4,
 "nbformat_minor": 2
}
