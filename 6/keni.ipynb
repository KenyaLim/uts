{
 "cells": [
  {
   "cell_type": "code",
   "execution_count": 5,
   "metadata": {},
   "outputs": [
    {
     "name": "stdout",
     "output_type": "stream",
     "text": [
      "11\n",
      "19\n"
     ]
    }
   ],
   "source": [
    "def primaterdekat(n):\n",
    "    for i in range(n, 1,-1):\n",
    "        for j in range (2, i):\n",
    "            if i % j == 0:\n",
    "                break\n",
    "        else:\n",
    "            return i\n",
    "\n",
    "print(primaterdekat(12))\n",
    "print(primaterdekat(21))"
   ]
  },
  {
   "cell_type": "code",
   "execution_count": 1,
   "metadata": {},
   "outputs": [
    {
     "name": "stdout",
     "output_type": "stream",
     "text": [
      "720 6 5 4 3 2 1 \n",
      "120 5 4 3 2 1 \n",
      "24 4 3 2 1 \n",
      "6 3 2 1 \n",
      "2 2 1 \n",
      "1 1 \n"
     ]
    }
   ],
   "source": [
    "n = int(input(\"Masukkan angka =\"))\n",
    "for i in range(n, 0,-1):\n",
    "    fak = 1\n",
    "    for j in range (i, 0, -1):\n",
    "        fak *= j\n",
    "    print(fak, end=\" \")\n",
    "    for k in range(i, 0, -1):\n",
    "        print(k, end=\" \")\n",
    "    print()"
   ]
  },
  {
   "cell_type": "code",
   "execution_count": 4,
   "metadata": {},
   "outputs": [
    {
     "name": "stdout",
     "output_type": "stream",
     "text": [
      "1 2 3 4  \n",
      "5 6 7 8  \n",
      "9 10 11 12  \n",
      "13 14 15 16  \n",
      "17 18 19 20  \n"
     ]
    }
   ],
   "source": [
    "t = int(input(\"Masukkan tinggi =\"))\n",
    "l = int(input(\"Masukkan lebar =\"))\n",
    "counter = 1\n",
    "for i in range(t):\n",
    "    row =\"\"\n",
    "    #print(end =\" \")\n",
    "    for j in range(l):\n",
    "        row += str(counter) + \" \"\n",
    "        counter += 1\n",
    "    print(row, end=\" \\n\")"
   ]
  }
 ],
 "metadata": {
  "kernelspec": {
   "display_name": "Python 3",
   "language": "python",
   "name": "python3"
  },
  "language_info": {
   "codemirror_mode": {
    "name": "ipython",
    "version": 3
   },
   "file_extension": ".py",
   "mimetype": "text/x-python",
   "name": "python",
   "nbconvert_exporter": "python",
   "pygments_lexer": "ipython3",
   "version": "3.12.1"
  }
 },
 "nbformat": 4,
 "nbformat_minor": 2
}
