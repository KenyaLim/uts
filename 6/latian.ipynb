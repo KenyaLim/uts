{
 "cells": [
  {
   "cell_type": "code",
   "execution_count": 5,
   "metadata": {},
   "outputs": [
    {
     "data": {
      "text/plain": [
       "False"
      ]
     },
     "execution_count": 5,
     "metadata": {},
     "output_type": "execute_result"
    }
   ],
   "source": [
    "#fungsi prima\n",
    "def prima(x):\n",
    "    if x < 2:\n",
    "        return False\n",
    "    for i in range(2,x):\n",
    "        if x % i == 0:\n",
    "            return False\n",
    "    return True\n",
    "prima(143)"
   ]
  },
  {
   "cell_type": "code",
   "execution_count": 2,
   "metadata": {},
   "outputs": [],
   "source": [
    "#soal 1\n",
    "def prima(x):\n",
    "    if x < 2:\n",
    "        return False\n",
    "    for i in range(2,x):\n",
    "        if x % i == 0:\n",
    "            return False\n",
    "    return True\n",
    "def prima2(n):\n",
    "    \"\"\"\n",
    "    if n < 2:\n",
    "        for i in range(n -1,1 ,-1):\n",
    "            if prima(i):\n",
    "                return i\n",
    "                \"\"\"\n",
    "    terdekat = n - 1\n",
    "    while not prima(terdekat):\n",
    "        terdekat -= 1\n",
    "        return True\n",
    "n = 21"
   ]
  },
  {
   "cell_type": "code",
   "execution_count": 3,
   "metadata": {},
   "outputs": [
    {
     "name": "stdout",
     "output_type": "stream",
     "text": [
      "720 6 5 4 3 2 1 \n",
      "120 5 4 3 2 1 \n",
      "24 4 3 2 1 \n",
      "6 3 2 1 \n",
      "2 2 1 \n",
      "1 1 \n"
     ]
    }
   ],
   "source": [
    "#soal 2\n",
    "def display_series(n):\n",
    "    for i in range(n, 0, -1):\n",
    "        factorial = 1\n",
    "        for j in range(i, 0, -1):\n",
    "            factorial *= j\n",
    "        print(factorial, end=\" \")\n",
    "        \n",
    "        for k in range(i, 0, -1):\n",
    "            print(k, end=\" \")\n",
    "            \n",
    "        print()\n",
    "\n",
    "display_series(6)\n"
   ]
  },
  {
   "cell_type": "code",
   "execution_count": 9,
   "metadata": {},
   "outputs": [
    {
     "name": "stdout",
     "output_type": "stream",
     "text": [
      "1 2 3 4\n",
      "5 6 7 8\n",
      "9 10 11 12\n",
      "13 14 15 16\n",
      "17 18 19 20\n"
     ]
    }
   ],
   "source": [
    "#soal 3\n",
    "def display_matrix(tinggi, lebar):\n",
    "    counter = 1\n",
    "    for i in range(tinggi):\n",
    "        row = \"\"\n",
    "        for j in range(lebar):\n",
    "            row += str(counter) + \" \"\n",
    "            counter += 1\n",
    "        print(row.strip())\n",
    "\n",
    "# Contoh dengan tinggi=5 dan lebar=4 seperti yang tertera pada soal\n",
    "display_matrix(5, 4)\n"
   ]
  }
 ],
 "metadata": {
  "kernelspec": {
   "display_name": "Python 3",
   "language": "python",
   "name": "python3"
  },
  "language_info": {
   "codemirror_mode": {
    "name": "ipython",
    "version": 3
   },
   "file_extension": ".py",
   "mimetype": "text/x-python",
   "name": "python",
   "nbconvert_exporter": "python",
   "pygments_lexer": "ipython3",
   "version": "3.12.1"
  }
 },
 "nbformat": 4,
 "nbformat_minor": 2
}
