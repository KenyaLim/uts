{
 "cells": [
  {
   "cell_type": "code",
   "execution_count": 7,
   "metadata": {},
   "outputs": [
    {
     "name": "stdout",
     "output_type": "stream",
     "text": [
      "The length of the hypotenuse is: 0\n"
     ]
    }
   ],
   "source": [
    "def pythagorean_theorem(a, b, c):\n",
    "    return c if a**2 + b**2 == c**2 else 0\n",
    "\n",
    "# Example usage:\n",
    "side1 = 10\n",
    "side2 = 40\n",
    "hypotenuse = 50\n",
    "result = pythagorean_theorem(side1, side2, hypotenuse)\n",
    "print(f\"The length of the hypotenuse is: {result}\")"
   ]
  },
  {
   "cell_type": "code",
   "execution_count": 8,
   "metadata": {},
   "outputs": [
    {
     "name": "stdout",
     "output_type": "stream",
     "text": [
      "Your grade is: A-\n"
     ]
    }
   ],
   "source": [
    "def get_grade(score):\n",
    "    if 4.0 >= score >= 3.7:\n",
    "        return \"A\"\n",
    "    elif 3.7 > score >= 3.0:\n",
    "        return \"A-\"\n",
    "    elif 3.0 > score >= 2.7:\n",
    "        return \"B\"\n",
    "    elif 2.7 > score >= 2.0:\n",
    "        return \"B-\"\n",
    "    elif 2.0 > score >= 1.7:\n",
    "        return \"C\"\n",
    "    elif 1.7 > score >= 1.0:\n",
    "        return \"C-\"\n",
    "    elif 1.0 > score >= 0:\n",
    "        return \"D\"\n",
    "    else:\n",
    "        return \"0\"\n",
    "\n",
    "# Example usage:\n",
    "user_input = float(input(\"Enter your numeric score (0 to 4.0): \"))\n",
    "result = get_grade(user_input)\n",
    "print(f\"Your grade is: {result}\")\n"
   ]
  },
  {
   "cell_type": "code",
   "execution_count": 9,
   "metadata": {},
   "outputs": [
    {
     "name": "stdout",
     "output_type": "stream",
     "text": [
      "The time of the second-place runner is: 9.8 seconds\n"
     ]
    }
   ],
   "source": [
    "def find_second_place_time(runner_times):\n",
    "    return sorted(runner_times)[1] if len(runner_times) >= 2 else 0\n",
    "\n",
    "# Example usage:\n",
    "runner_times = [10.5, 9.8, 11.2, 10.0, 9.7]\n",
    "second_place_time = find_second_place_time(runner_times)\n",
    "print(f\"The time of the second-place runner is: {second_place_time} seconds\")\n"
   ]
  },
  {
   "cell_type": "code",
   "execution_count": null,
   "metadata": {},
   "outputs": [],
   "source": [
    "def find_second_place(a, b, c, d, e):\n",
    "    runners = [a, b, c, d, e]\n",
    "    runners.sort()\n",
    "    \n",
    "    if runners[1] == a:\n",
    "        return \"A\"\n",
    "    elif runners[1] == b:\n",
    "        return \"B\"\n",
    "    elif runners[1] == c:\n",
    "        return \"C\"\n",
    "    elif runners[1] == d:\n",
    "        return \"D\"\n",
    "    elif runners[1] == e:\n",
    "        return \"E\"\n",
    "    else:\n",
    "        return \"0\"\n",
    "\n",
    "# Example usage:\n",
    "a = float(input(\"Enter the time of runner a in seconds: \"))\n",
    "b = float(input(\"Enter the time of runner b in seconds: \"))\n",
    "c = float(input(\"Enter the time of runner c in seconds: \"))\n",
    "d = float(input(\"Enter the time of runner d in seconds: \"))\n",
    "e = float(input(\"Enter the time of runner e in seconds: \"))\n",
    "result = find_second_place(a, b, c, d, e)\n",
    "print(f\"The second place runner is: {result}\")"
   ]
  }
 ],
 "metadata": {
  "kernelspec": {
   "display_name": "Python 3",
   "language": "python",
   "name": "python3"
  },
  "language_info": {
   "codemirror_mode": {
    "name": "ipython",
    "version": 3
   },
   "file_extension": ".py",
   "mimetype": "text/x-python",
   "name": "python",
   "nbconvert_exporter": "python",
   "pygments_lexer": "ipython3",
   "version": "3.12.1"
  }
 },
 "nbformat": 4,
 "nbformat_minor": 2
}
