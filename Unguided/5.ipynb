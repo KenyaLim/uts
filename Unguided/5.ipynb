{
 "cells": [
  {
   "cell_type": "code",
   "execution_count": 1,
   "metadata": {},
   "outputs": [
    {
     "name": "stdout",
     "output_type": "stream",
     "text": [
      "######\n",
      "#    #\n",
      "######\n"
     ]
    }
   ],
   "source": [
    "def pagar(baris, kolom):\n",
    "    if baris < 3 or kolom < 3:\n",
    "        print(\"dimensi tidak sesuai\")\n",
    "    else:\n",
    "        for i in range(1, baris + 1):\n",
    "            for j in range(1, kolom + 1):\n",
    "                if i == 1 or i == baris:\n",
    "                    print(\"#\", end=\"\")\n",
    "                elif j == 1 or j == kolom:\n",
    "                    print(\"#\", end=\"\")\n",
    "                else:\n",
    "                    print(\" \", end=\"\")\n",
    "            print()\n",
    "\n",
    "pagar(3,6)"
   ]
  },
  {
   "cell_type": "code",
   "execution_count": 2,
   "metadata": {},
   "outputs": [
    {
     "name": "stdout",
     "output_type": "stream",
     "text": [
      "#############\n",
      "# # # # # # #\n",
      "#############\n",
      "# # # # # # #\n",
      "#############\n",
      "# # # # # # #\n",
      "#############\n"
     ]
    }
   ],
   "source": [
    "def papan(baris, kolom):\n",
    "    if baris < 1 or kolom < 1:\n",
    "        print(\"dimensi tidak sesuai\")\n",
    "    else:\n",
    "        for i in range(1, baris + (baris+1) + 1):\n",
    "            for j in range(1, kolom + (kolom+1) + 1):\n",
    "                if i % 2 != 0:\n",
    "                    print(\"#\", end=\"\")\n",
    "                elif j % 2 == 0:\n",
    "                    print(\" \", end=\"\")\n",
    "                else:\n",
    "                    print(\"#\", end=\"\")\n",
    "            print() \n",
    "papan(3,6)"
   ]
  },
  {
   "cell_type": "code",
   "execution_count": 3,
   "metadata": {},
   "outputs": [],
   "source": [
    "def palindrom(panjang):\n",
    "    if panjang % 2 == 1:\n",
    "    \n",
    "        tengah = (panjang+1) //2\n",
    "        for i in range (tengah, 0, -1):\n",
    "            print (i ,end=\" \")\n",
    "        for i in range (2, tengah + 1):\n",
    "            print (i ,end=\" \")\n",
    "    else:\n",
    "         print(\"dimensi tidak sesuai\")"
   ]
  },
  {
   "cell_type": "code",
   "execution_count": 4,
   "metadata": {},
   "outputs": [
    {
     "name": "stdout",
     "output_type": "stream",
     "text": [
      "###\n",
      " # \n",
      " # \n",
      " # \n",
      " # \n",
      " # \n",
      " # \n",
      " # \n",
      " # \n"
     ]
    }
   ],
   "source": [
    "def capitalt(tinggi, panjang):\n",
    "    if (tinggi>=2)and (panjang>=3)and (panjang%2==1):\n",
    "        for i in range(tinggi):\n",
    "            if i ==0:\n",
    "                for y in range(panjang):\n",
    "                    print(\"#\", end=\"\")\n",
    "            else:\n",
    "                for z in range(panjang):\n",
    "                    if z==panjang//2:\n",
    "                        print(\"#\", end=\"\")\n",
    "                    else:\n",
    "                        print(\" \", end=\"\")\n",
    "            print()\n",
    "    else:\n",
    "        print(\"dimensi tidak sesuai\")\n",
    "        \n",
    "capitalt(9,3)"
   ]
  },
  {
   "cell_type": "code",
   "execution_count": null,
   "metadata": {},
   "outputs": [],
   "source": [
    "#darren\n",
    "def capitalt(tinggi :int, panjang :int):\n",
    "        if (tinggi>=2)and (panjang>=3)and (panjang%2==1): #panjang/baris harus minimal 2 dan merupakan bilangan ganjil. tinggi/kolom minimal 3\n",
    "            for i in range(tinggi): #outer loop untuk setiap kolom\n",
    "                if i ==0: #kondisi ketika i merupakan suku awal, print semua #\n",
    "                    for y in range(panjang):\n",
    "                        print(\"#\", end=\"\")\n",
    "                else:\n",
    "                    for z in range(panjang):\n",
    "                        if z==panjang//2:\n",
    "                            print(\"#\", end=\"\")\n",
    "                        else:\n",
    "                            print(\" \", end=\"\")\n",
    "                print()\n",
    "        else:\n",
    "            print(\"dimensi tidak sesuai\")"
   ]
  },
  {
   "cell_type": "code",
   "execution_count": null,
   "metadata": {},
   "outputs": [],
   "source": [
    "def capitalt(tinggi, panjang):\n",
    "    if (tinggi >= 2) and (panjang >=3) and (panjang % 2 == 1):\n",
    "        for i in range (tinggi):\n",
    "            for j in range (panjang):\n",
    "                if i == 0:\n",
    "                    print(\"#\", end=\"\")\n",
    "                else:\n",
    "                    if j == panjang//2:\n",
    "                        print(\"#\", end=\"\")\n",
    "                    else:\n",
    "                        print(\" \", end=\"\")\n",
    "            print()\n",
    "    else:\n",
    "        print(\"dimensi tidak sesuai\")"
   ]
  }
 ],
 "metadata": {
  "kernelspec": {
   "display_name": "Python 3",
   "language": "python",
   "name": "python3"
  },
  "language_info": {
   "codemirror_mode": {
    "name": "ipython",
    "version": 3
   },
   "file_extension": ".py",
   "mimetype": "text/x-python",
   "name": "python",
   "nbconvert_exporter": "python",
   "pygments_lexer": "ipython3",
   "version": "3.12.1"
  }
 },
 "nbformat": 4,
 "nbformat_minor": 2
}
