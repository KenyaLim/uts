{
 "cells": [
  {
   "cell_type": "code",
   "execution_count": 1,
   "metadata": {},
   "outputs": [
    {
     "name": "stdout",
     "output_type": "stream",
     "text": [
      "35\n",
      "42\n",
      "49\n",
      "56\n",
      "63\n",
      "None\n"
     ]
    }
   ],
   "source": [
    "# replace pass dengan jawaban anda.  tulis jawaban hanya di dalam fungsi deret saja\n",
    "\n",
    "def deret(n, batas_bawah, batas_atas):\n",
    "    for i in range(batas_bawah, batas_atas+1):\n",
    "        if i % n == 0:\n",
    "            print(i)\n",
    "\n",
    "print(deret(7,34,69))"
   ]
  },
  {
   "cell_type": "code",
   "execution_count": 9,
   "metadata": {},
   "outputs": [
    {
     "name": "stdout",
     "output_type": "stream",
     "text": [
      "9\n"
     ]
    }
   ],
   "source": [
    "def cetak(a, b):\n",
    "    if a > b:\n",
    "        for i in range(a, b+1):\n",
    "            print(i)\n",
    "    else:\n",
    "        for i in range(b, a+1):\n",
    "            print(i)\n",
    "\n",
    "cetak(9,9)  "
   ]
  }
 ],
 "metadata": {
  "kernelspec": {
   "display_name": "Python 3",
   "language": "python",
   "name": "python3"
  },
  "language_info": {
   "codemirror_mode": {
    "name": "ipython",
    "version": 3
   },
   "file_extension": ".py",
   "mimetype": "text/x-python",
   "name": "python",
   "nbconvert_exporter": "python",
   "pygments_lexer": "ipython3",
   "version": "3.12.1"
  }
 },
 "nbformat": 4,
 "nbformat_minor": 2
}
