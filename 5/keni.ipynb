{
 "cells": [
  {
   "cell_type": "code",
   "execution_count": 10,
   "metadata": {},
   "outputs": [
    {
     "name": "stdout",
     "output_type": "stream",
     "text": [
      "6 x 5 = 6 + 6 + 6 + 6 + 6 = 30\n",
      "7 x 10 = 7 + 7 + 7 + 7 + 7 + 7 + 7 + 7 + 7 + 7 = 70\n"
     ]
    }
   ],
   "source": [
    "#soal 1\n",
    "def perkalian(a, b):\n",
    "    hasil = 0\n",
    "    for i in range(b):\n",
    "        hasil += a\n",
    "    return hasil\n",
    "    \n",
    "def tuambah(angka1, angka2):\n",
    "    hasil_perkalian = perkalian(angka1, angka2)\n",
    "    print(f\"{angka1} x {angka2} = {' + '.join(str(angka1) for i in range(angka2))} = {hasil_perkalian}\")\n",
    "\n",
    "tuambah(6, 5)\n",
    "tuambah(7,10)"
   ]
  },
  {
   "cell_type": "code",
   "execution_count": 7,
   "metadata": {},
   "outputs": [
    {
     "name": "stdout",
     "output_type": "stream",
     "text": [
      "\n",
      " bawah = 10, atas = 30. Maka hasilnya =\n",
      "11,13,15,17,19,21,23,25,27,29,\n",
      " bawah = 97, atas = 82. Maka hasilnya =\n",
      "97,95,93,91,89,87,85,83,"
     ]
    }
   ],
   "source": [
    "#soal 2\n",
    "def ganjil (bawah,atas):\n",
    "    print(f\"\\n bawah = {bawah}, atas = {atas}. Maka hasilnya =\")\n",
    "    if bawah < atas:\n",
    "        for i in range(bawah, atas+1):\n",
    "            if i % 2 != 0:\n",
    "                print(i,end=\",\")\n",
    "    else:\n",
    "        for i in range(bawah, atas-1,-1):\n",
    "            if i % 2 != 0:\n",
    "                print(i,end=\",\")\n",
    "\n",
    "ganjil(10,30)\n",
    "ganjil(97,82)"
   ]
  },
  {
   "cell_type": "code",
   "execution_count": 9,
   "metadata": {},
   "outputs": [
    {
     "name": "stdout",
     "output_type": "stream",
     "text": [
      "Nilai ips anda semester ini :2.67\n"
     ]
    }
   ],
   "source": [
    "#soal 3\n",
    "matkul = int(input(\"Masukkan berapa mata kuliah :\"))\n",
    "tot_sks = 0\n",
    "tot_ipk = 0\n",
    "\n",
    "for i in range(matkul):\n",
    "    nilai = input(f\"Nilai MK kuliah {i+1} :\")\n",
    "    sks = 3\n",
    "\n",
    "    if nilai == \"A\":\n",
    "        ipk = 4 * sks\n",
    "    elif nilai == \"B\":\n",
    "        ipk = 3 * sks\n",
    "    elif nilai == \"C\":\n",
    "        ipk = 2 * sks\n",
    "    elif nilai == \"D\":\n",
    "        ipk = 1 * sks\n",
    "    else:\n",
    "        print(\"SALAH\")\n",
    "\n",
    "    tot_ipk += ipk\n",
    "    tot_sks += sks\n",
    "\n",
    "rata = tot_ipk / tot_sks\n",
    "print(f\"Nilai ips anda semester ini :{rata:.2f}\")\n"
   ]
  }
 ],
 "metadata": {
  "kernelspec": {
   "display_name": "Python 3",
   "language": "python",
   "name": "python3"
  },
  "language_info": {
   "codemirror_mode": {
    "name": "ipython",
    "version": 3
   },
   "file_extension": ".py",
   "mimetype": "text/x-python",
   "name": "python",
   "nbconvert_exporter": "python",
   "pygments_lexer": "ipython3",
   "version": "3.12.1"
  }
 },
 "nbformat": 4,
 "nbformat_minor": 2
}
