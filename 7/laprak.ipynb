{
 "cells": [
  {
   "cell_type": "code",
   "execution_count": 2,
   "metadata": {},
   "outputs": [
    {
     "name": "stdout",
     "output_type": "stream",
     "text": [
      "Ini anagram\n"
     ]
    }
   ],
   "source": [
    "#soal 1\n",
    "k1 = (input(\"Masukan kata 1 =\")).lower()\n",
    "k2 = (input(\"Masukan kata 2 =\")).lower()\n",
    "x = sorted(k1)\n",
    "y = sorted(k2)\n",
    "if x == y or y == x:\n",
    "    print(\"Ini anagram\")\n",
    "else:\n",
    "    print(\"bukan anagram\")"
   ]
  },
  {
   "cell_type": "code",
   "execution_count": 3,
   "metadata": {},
   "outputs": [
    {
     "name": "stdout",
     "output_type": "stream",
     "text": [
      "makan ada 4 kali\n"
     ]
    }
   ],
   "source": [
    "#soal 2\n",
    "k1 = (input(\"Masukan kalimat = \")).lower()\n",
    "k2 = (input(\"Kata yang dicari = \")).lower()\n",
    "b = k1.split()\n",
    "x = 0\n",
    "for i in b:\n",
    "   if k2 in i:\n",
    "      x += 1\n",
    "print(f\"{k2} ada {x} kali\")"
   ]
  },
  {
   "cell_type": "code",
   "execution_count": 2,
   "metadata": {},
   "outputs": [
    {
     "name": "stdout",
     "output_type": "stream",
     "text": [
      "kenya haha hihi\n"
     ]
    }
   ],
   "source": [
    "#soal 3\n",
    "k = (input(\"Masukkan kalimat = \"))\n",
    "a = k.split()\n",
    "x = \" \".join(a)\n",
    "print(x)"
   ]
  },
  {
   "cell_type": "code",
   "execution_count": 5,
   "metadata": {},
   "outputs": [
    {
     "name": "stdout",
     "output_type": "stream",
     "text": [
      "bola = terpendek dan pingponggggg = terpanjang\n"
     ]
    }
   ],
   "source": [
    "#soal 4\n",
    "k = input(\"Masukkan kalimat = \")\n",
    "k1 = k.split()\n",
    "p = k1[0] #pendek\n",
    "pp = k1[0] #panjang\n",
    "for x in k1:\n",
    "    if len(x) < len(p):\n",
    "        p = x\n",
    "    elif len(x) > len(pp):\n",
    "        pp = x\n",
    "print(f\"{p} = terpendek dan {pp} = terpanjang\")"
   ]
  }
 ],
 "metadata": {
  "kernelspec": {
   "display_name": "Python 3",
   "language": "python",
   "name": "python3"
  },
  "language_info": {
   "codemirror_mode": {
    "name": "ipython",
    "version": 3
   },
   "file_extension": ".py",
   "mimetype": "text/x-python",
   "name": "python",
   "nbconvert_exporter": "python",
   "pygments_lexer": "ipython3",
   "version": "3.12.1"
  }
 },
 "nbformat": 4,
 "nbformat_minor": 2
}
