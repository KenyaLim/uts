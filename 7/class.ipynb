{
 "cells": [
  {
   "cell_type": "code",
   "execution_count": 1,
   "metadata": {},
   "outputs": [
    {
     "name": "stdout",
     "output_type": "stream",
     "text": [
      "MatahariBakti\n",
      "A\n",
      "R\n",
      "u\n",
      "L\n"
     ]
    }
   ],
   "source": [
    "namasaya = \"Antonius Rachmat C\"\n",
    "temansaya1 = \"Yuan Lukito\"\n",
    "temansaya2 = 'Laurentius Kuncoro'\n",
    "temansaya3 = \"Matahari\" + 'Bakti'\n",
    "\n",
    "print(temansaya3)\n",
    "print(namasaya[0]) #'A'\n",
    "print(namasaya[9]) #'R'\n",
    "print(temansaya1[1]) #'u'\n",
    "\n",
    "huruf = temansaya2[0]\n",
    "print(huruf) #'L'\n"
   ]
  },
  {
   "cell_type": "code",
   "execution_count": 3,
   "metadata": {},
   "outputs": [
    {
     "name": "stdout",
     "output_type": "stream",
     "text": [
      "True\n"
     ]
    }
   ],
   "source": [
    "kalimat = \"Kenya\"\n",
    "data = \"a\"\n",
    "print(data in kalimat)"
   ]
  },
  {
   "cell_type": "code",
   "execution_count": 9,
   "metadata": {},
   "outputs": [
    {
     "name": "stdout",
     "output_type": "stream",
     "text": [
      "indonesia jaya indonesia jaya "
     ]
    }
   ],
   "source": [
    "kalimat = \"indonesia jaya \"\n",
    "i = 0\n",
    "while i < len(kalimat):\n",
    "    print(kalimat[i], end='')\n",
    "    i = i + 1\n",
    "for kal in kalimat:\n",
    "    print(kal, end='')"
   ]
  },
  {
   "cell_type": "code",
   "execution_count": 10,
   "metadata": {},
   "outputs": [
    {
     "name": "stdout",
     "output_type": "stream",
     "text": [
      "saya makan\n"
     ]
    }
   ],
   "source": [
    "kata1 = \"saya\"\n",
    "kata2 = \"makan\"\n",
    "kata3 = kata1 + \" \" + kata2\n",
    "print(kata3, end='')"
   ]
  },
  {
   "cell_type": "code",
   "execution_count": 21,
   "metadata": {},
   "outputs": [
    {
     "name": "stdout",
     "output_type": "stream",
     "text": [
      "08/17/1945\n"
     ]
    }
   ],
   "source": [
    "kalimat = 'saudara-saudara pada tanggal 17-08-1945 indonesia merdeka'\n",
    "\n",
    "hasil = kalimat.split(\" \")\n",
    "#print(hasil)\n",
    "#\"\"\"\n",
    "for i in hasil:\n",
    "    if i[0].isdigit():\n",
    "        #print(hasil2)\n",
    "        hasil2 = i.split(\"-\")\n",
    "        print(hasil2[1]+\"/\"+hasil2[0]+\"/\"+hasil2[2])\n",
    "        #\"\"\""
   ]
  },
  {
   "cell_type": "code",
   "execution_count": 23,
   "metadata": {},
   "outputs": [
    {
     "name": "stdout",
     "output_type": "stream",
     "text": [
      "4\n"
     ]
    }
   ],
   "source": [
    "#soal1\n",
    "astring = 'AnTonIus'\n",
    "lowercase = astring.lower()\n",
    "total = 0\n",
    "for x in \"aiueo\":\n",
    "    jml = lowercase.count(x)\n",
    "    total += jml\n",
    "print(total)"
   ]
  },
  {
   "cell_type": "code",
   "execution_count": 24,
   "metadata": {},
   "outputs": [
    {
     "name": "stdout",
     "output_type": "stream",
     "text": [
      "palindrom\n"
     ]
    }
   ],
   "source": [
    "satu = \"Step! on, no.. pets??\"\n",
    "satu = satu.lower()\n",
    "\n",
    "satu = ''.join([i for i in satu if i.isalpha()]) #buang semua yang bukan alfabet\n",
    "\n",
    "dua = satu[::-1]\n",
    "if dua == satu:\n",
    "    print(\"palindrom\")\n",
    "else:\n",
    "    print(\"bukan\")"
   ]
  },
  {
   "cell_type": "code",
   "execution_count": 32,
   "metadata": {},
   "outputs": [
    {
     "name": "stdout",
     "output_type": "stream",
     "text": [
      "['a', 'quick', 'brown', 'fox', 'jumps', 'over', 'the', 'lazy', 'dog']\n"
     ]
    }
   ],
   "source": [
    "text = 'A quick brown fox jumps over the lazy dog'\n",
    "def ambilkatakalimat(kalimat, n):\n",
    "    kalimat = kalimat.lower()\n",
    "    hasilakhir = []\n",
    "    hasil = kalimat.split()\n",
    "    for i in range(0,len(hasil)):\n",
    "        tmp = ' '.join(hasil[i : i + n])\n",
    "        hasilakhir.append(tmp)\n",
    "\n",
    "    return hasilakhir\n",
    "print(ambilkatakalimat(text,1))"
   ]
  }
 ],
 "metadata": {
  "kernelspec": {
   "display_name": "Python 3",
   "language": "python",
   "name": "python3"
  },
  "language_info": {
   "codemirror_mode": {
    "name": "ipython",
    "version": 3
   },
   "file_extension": ".py",
   "mimetype": "text/x-python",
   "name": "python",
   "nbconvert_exporter": "python",
   "pygments_lexer": "ipython3",
   "version": "3.12.1"
  }
 },
 "nbformat": 4,
 "nbformat_minor": 2
}
