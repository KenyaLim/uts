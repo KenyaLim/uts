{
 "cells": [
  {
   "cell_type": "code",
   "execution_count": 1,
   "id": "a9a72b9e",
   "metadata": {},
   "outputs": [
    {
     "name": "stdout",
     "output_type": "stream",
     "text": [
      "True\n",
      "False\n"
     ]
    }
   ],
   "source": [
    "cek_angka= lambda p,q,r: p!=q and p!=r and q!=r\n",
    "cek_angka_lagi=lambda p,q,r: (p+q)==r and (p+r)==q and (q+r)==p\n",
    "print(cek_angka(5,3,4))\n",
    "print(cek_angka_lagi(4,3,2))"
   ]
  },
  {
   "cell_type": "code",
   "execution_count": 2,
   "id": "3eb3a61b",
   "metadata": {},
   "outputs": [
    {
     "name": "stdout",
     "output_type": "stream",
     "text": [
      "True\n"
     ]
    }
   ],
   "source": [
    "cek_digit_belakang=lambda p,q,r:(p%10)==(q%10) or (p%10)==(r%10) or (q%10)==(r%10)\n",
    "print(cek_digit_belakang(30,20,18))"
   ]
  },
  {
   "cell_type": "code",
   "execution_count": 3,
   "id": "f1926529",
   "metadata": {},
   "outputs": [
    {
     "name": "stdout",
     "output_type": "stream",
     "text": [
      "True\n"
     ]
    }
   ],
   "source": [
    "cek_digit_belakang=lambda p,q,r:(p%10)==(q%10) or (p%10)==(r%10) or (q%10)==(r%10)\n",
    "print(cek_digit_belakang(145,5,100))"
   ]
  },
  {
   "cell_type": "code",
   "execution_count": 4,
   "id": "08d99152",
   "metadata": {},
   "outputs": [
    {
     "name": "stdout",
     "output_type": "stream",
     "text": [
      "False\n"
     ]
    }
   ],
   "source": [
    "cek_digit_belakang=lambda p,q,r:(p%10)==(q%10) or (p%10)==(r%10) or (q%10)==(r%10)\n",
    "print(cek_digit_belakang(71,187,18))"
   ]
  },
  {
   "cell_type": "code",
   "execution_count": 5,
   "id": "51d96369",
   "metadata": {},
   "outputs": [
    {
     "name": "stdout",
     "output_type": "stream",
     "text": [
      "True\n"
     ]
    }
   ],
   "source": [
    "cek_digit_belakang=lambda p,q,r:(p%10)==(q%10) or (p%10)==(r%10) or (q%10)==(r%10)\n",
    "print(cek_digit_belakang(1024,14,94))"
   ]
  },
  {
   "cell_type": "code",
   "execution_count": 6,
   "id": "807a2c0d",
   "metadata": {},
   "outputs": [
    {
     "name": "stdout",
     "output_type": "stream",
     "text": [
      "False\n"
     ]
    }
   ],
   "source": [
    "cek_digit_belakang=lambda p,q,r:(p%10)==(q%10) or (p%10)==(r%10) or (q%10)==(r%10)\n",
    "print(cek_digit_belakang(53,8900,658))"
   ]
  },
  {
   "cell_type": "code",
   "execution_count": 7,
   "id": "72fee39c",
   "metadata": {},
   "outputs": [
    {
     "name": "stdout",
     "output_type": "stream",
     "text": [
      "212.0\n",
      "64.0\n",
      "32.0\n"
     ]
    }
   ],
   "source": [
    "celcius_to_farenheit=lambda c: (9/5)*c+32\n",
    "celcius_to_reamur=lambda c:0.8*c\n",
    "print(celcius_to_farenheit(100))\n",
    "print(celcius_to_reamur(80))\n",
    "print(celcius_to_farenheit(0))"
   ]
  },
  {
   "cell_type": "code",
   "execution_count": null,
   "id": "15d92369",
   "metadata": {},
   "outputs": [],
   "source": []
  }
 ],
 "metadata": {
  "kernelspec": {
   "display_name": "Python 3 (ipykernel)",
   "language": "python",
   "name": "python3"
  },
  "language_info": {
   "codemirror_mode": {
    "name": "ipython",
    "version": 3
   },
   "file_extension": ".py",
   "mimetype": "text/x-python",
   "name": "python",
   "nbconvert_exporter": "python",
   "pygments_lexer": "ipython3",
   "version": "3.12.1"
  }
 },
 "nbformat": 4,
 "nbformat_minor": 5
}
