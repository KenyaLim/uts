{
 "cells": [
  {
   "cell_type": "code",
   "execution_count": 1,
   "metadata": {},
   "outputs": [
    {
     "name": "stdout",
     "output_type": "stream",
     "text": [
      "1       \n",
      "2  3      \n",
      "4  5  6     \n",
      "7  8  9  10    \n",
      "11  12  13  14  15   \n",
      "16  17  18  19  20  21  \n"
     ]
    }
   ],
   "source": [
    "def segitigaurut(tinggi):\n",
    "    if (tinggi > 0):\n",
    "        num = 0\n",
    "        for i in range(1, tinggi+1):\n",
    "            for j in range(1, i+1):\n",
    "                num += 1\n",
    "                print(num, \" \", end=\"\")\n",
    "            for j in range(1, tinggi-i+1):\n",
    "                print(\" \", end=\"\")\n",
    "            print()\n",
    "    else:\n",
    "        print('dimensi tidak sesuai')\n",
    "\n",
    "segitigaurut(6)"
   ]
  },
  {
   "cell_type": "code",
   "execution_count": 12,
   "metadata": {},
   "outputs": [
    {
     "name": "stdout",
     "output_type": "stream",
     "text": [
      "1  \n",
      "2  3  \n",
      "4  5  6  \n",
      "7  8  9  10  \n",
      "11  12  13  14  15  \n",
      "16  17  18  19  20  21  \n"
     ]
    }
   ],
   "source": [
    "def anu(x):\n",
    "    n=0\n",
    "    for i in range(1, x+1):\n",
    "        for j in range(1, i+1):\n",
    "            n=n+1\n",
    "            print(n,\" \",end=\"\")\n",
    "        print()\n",
    "\n",
    "anu(6)"
   ]
  },
  {
   "cell_type": "code",
   "execution_count": 14,
   "metadata": {},
   "outputs": [
    {
     "name": "stdout",
     "output_type": "stream",
     "text": [
      "abcd\n"
     ]
    }
   ],
   "source": [
    "def dupe(kalimat):\n",
    "    kalimats = kalimat.lower()\n",
    "    new_kalimat = \"\"\n",
    "\n",
    "    for i in kalimats:\n",
    "        if i not in new_kalimat:\n",
    "            new_kalimat += i\n",
    "    \n",
    "    return new_kalimat\n",
    "\n",
    "print(dupe(\"aAAAaaaaABbbbBBCcccCCcDDDDdddAaaaaa\"))"
   ]
  },
  {
   "cell_type": "code",
   "execution_count": 15,
   "metadata": {},
   "outputs": [
    {
     "name": "stdout",
     "output_type": "stream",
     "text": [
      "abcda\n"
     ]
    }
   ],
   "source": [
    "def dupe(kata):\n",
    "    d = \"\"\n",
    "    lowercase = kata.lower()\n",
    "    d += lowercase[0]\n",
    "    for i in range (0,len(lowercase)-1):\n",
    "        if lowercase[i+1] != d[-1]:\n",
    "            d += lowercase[i+1]\n",
    "    return d\n",
    "print(dupe(\"aAAAaaaaABbbbBBCcccCCcDDDDdddAaaaaa\"))"
   ]
  }
 ],
 "metadata": {
  "kernelspec": {
   "display_name": "Python 3",
   "language": "python",
   "name": "python3"
  },
  "language_info": {
   "codemirror_mode": {
    "name": "ipython",
    "version": 3
   },
   "file_extension": ".py",
   "mimetype": "text/x-python",
   "name": "python",
   "nbconvert_exporter": "python",
   "pygments_lexer": "ipython3",
   "version": "3.12.1"
  }
 },
 "nbformat": 4,
 "nbformat_minor": 2
}
