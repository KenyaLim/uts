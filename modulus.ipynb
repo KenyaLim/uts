{
 "cells": [
  {
   "cell_type": "code",
   "execution_count": 3,
   "metadata": {},
   "outputs": [
    {
     "name": "stdout",
     "output_type": "stream",
     "text": [
      "Hasil bagi: 5.0\n",
      "Sisa bagi: 0\n"
     ]
    }
   ],
   "source": [
    "hasil_bagi = 10 / 2  # Hasil bagi integer: 3\n",
    "sisa_bagi = 10 % 2  # Sisa bagi: 1\n",
    "\n",
    "print(\"Hasil bagi:\", hasil_bagi)\n",
    "print(\"Sisa bagi:\", sisa_bagi)"
   ]
  },
  {
   "cell_type": "code",
   "execution_count": 5,
   "metadata": {},
   "outputs": [
    {
     "name": "stdout",
     "output_type": "stream",
     "text": [
      "90 adalah bilangan genap.\n"
     ]
    }
   ],
   "source": [
    "#genap ganjil\n",
    "bilangan = 90\n",
    "if bilangan % 2 == 0:\n",
    "    print(f\"{bilangan} adalah bilangan genap.\")\n",
    "else:\n",
    "    print(f\"{bilangan} adalah bilangan ganjil.\")"
   ]
  },
  {
   "cell_type": "code",
   "execution_count": 6,
   "metadata": {},
   "outputs": [
    {
     "name": "stdout",
     "output_type": "stream",
     "text": [
      "3 adalah ganjil.\n",
      "534 adalah genap.\n",
      "635 adalah ganjil.\n",
      "76 adalah genap.\n",
      "857 adalah ganjil.\n",
      "879 adalah ganjil.\n",
      "9 adalah ganjil.\n"
     ]
    }
   ],
   "source": [
    "#genap ganjil array\n",
    "a = [3,534,635,76,857,879,9]\n",
    "for x in a:\n",
    "    if x % 2 == 0:\n",
    "        print(f\"{x} adalah genap.\")\n",
    "    else:\n",
    "        print(f\"{x} adalah ganjil.\")"
   ]
  }
 ],
 "metadata": {
  "kernelspec": {
   "display_name": "Python 3",
   "language": "python",
   "name": "python3"
  },
  "language_info": {
   "codemirror_mode": {
    "name": "ipython",
    "version": 3
   },
   "file_extension": ".py",
   "mimetype": "text/x-python",
   "name": "python",
   "nbconvert_exporter": "python",
   "pygments_lexer": "ipython3",
   "version": "3.12.1"
  }
 },
 "nbformat": 4,
 "nbformat_minor": 2
}
